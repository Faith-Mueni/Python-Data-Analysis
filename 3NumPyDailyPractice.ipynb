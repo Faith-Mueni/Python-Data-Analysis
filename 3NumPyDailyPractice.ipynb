{
  "nbformat": 4,
  "nbformat_minor": 0,
  "metadata": {
    "colab": {
      "provenance": [],
      "authorship_tag": "ABX9TyM+MQyMxCSRiJVjRdSvEUFw",
      "include_colab_link": true
    },
    "kernelspec": {
      "name": "python3",
      "display_name": "Python 3"
    },
    "language_info": {
      "name": "python"
    }
  },
  "cells": [
    {
      "cell_type": "markdown",
      "metadata": {
        "id": "view-in-github",
        "colab_type": "text"
      },
      "source": [
        "<a href=\"https://colab.research.google.com/github/Faith-Mueni/Python-Data-Analysis/blob/main/3NumPyDailyPractice.ipynb\" target=\"_parent\"><img src=\"https://colab.research.google.com/assets/colab-badge.svg\" alt=\"Open In Colab\"/></a>"
      ]
    },
    {
      "cell_type": "code",
      "source": [
        "\"How to ignore all numpy warnings (not recommended)\""
      ],
      "metadata": {
        "id": "27yon-EFfeqO"
      },
      "execution_count": null,
      "outputs": []
    },
    {
      "cell_type": "code",
      "source": [
        "\"\"\" Is the following expressions true? (★☆☆)\n",
        "np.sqrt(-1) == np.emath.sqrt(-1)\n",
        "\"\"\"\n"
      ],
      "metadata": {
        "id": "TDHCoxDzfmuU"
      },
      "execution_count": null,
      "outputs": []
    },
    {
      "cell_type": "code",
      "source": [
        "\"How to get the dates of yesterday, today and tomorrow?\"\n"
      ],
      "metadata": {
        "id": "w7RTLO0afykU"
      },
      "execution_count": null,
      "outputs": []
    },
    {
      "cell_type": "code",
      "source": [
        "\"How to get all the dates corresponding to the month of July 2016\""
      ],
      "metadata": {
        "id": "7fq0_C-0f6VZ"
      },
      "execution_count": null,
      "outputs": []
    },
    {
      "cell_type": "code",
      "source": [
        "\"How to compute ((A+B)*(-A/2)) in place (without copy)?\"\n"
      ],
      "metadata": {
        "id": "_jjXMa4EgEzM"
      },
      "execution_count": null,
      "outputs": []
    },
    {
      "cell_type": "code",
      "source": [
        "\"Extract the integer part of a random array of positive numbers using 4 different methods\""
      ],
      "metadata": {
        "id": "eHsscTMagL7-"
      },
      "execution_count": null,
      "outputs": []
    },
    {
      "cell_type": "code",
      "source": [
        "\"Create a 5x5 matrix with row values ranging from 0 to 4\""
      ],
      "metadata": {
        "id": "svwtrobrgQjL"
      },
      "execution_count": null,
      "outputs": []
    },
    {
      "cell_type": "code",
      "source": [
        "\" Consider a generator function that generates 10 integers and use it to build an array\""
      ],
      "metadata": {
        "id": "jrlhhdxwgXb-"
      },
      "execution_count": null,
      "outputs": []
    },
    {
      "cell_type": "code",
      "source": [
        "\"Create a vector of size 10 with values ranging from 0 to 1, both excluded\""
      ],
      "metadata": {
        "id": "3kDct91dgfh7"
      },
      "execution_count": null,
      "outputs": []
    },
    {
      "cell_type": "code",
      "source": [
        "\"Create a random vector of size 10 and sort it\"\n"
      ],
      "metadata": {
        "id": "xU9y3EbQglyJ"
      },
      "execution_count": null,
      "outputs": []
    },
    {
      "cell_type": "code",
      "source": [
        "\"How to sum a small array faster than np.sum\""
      ],
      "metadata": {
        "id": "DGWfsJ2Tgs0L"
      },
      "execution_count": null,
      "outputs": []
    },
    {
      "cell_type": "code",
      "source": [
        "\"Consider two random array A and B, check if they are equal\"\n"
      ],
      "metadata": {
        "id": "65CRUovbg5J9"
      },
      "execution_count": null,
      "outputs": []
    },
    {
      "cell_type": "code",
      "source": [
        "\"Make an array immutable (read-only)\""
      ],
      "metadata": {
        "id": "-VRBVrx4hBlp"
      },
      "execution_count": null,
      "outputs": []
    },
    {
      "cell_type": "code",
      "source": [
        "\"Consider a random 10x2 matrix representing cartesian coordinates, convert them to polar coordinates\""
      ],
      "metadata": {
        "id": "Ww0au0dphHtK"
      },
      "execution_count": null,
      "outputs": []
    },
    {
      "cell_type": "code",
      "source": [
        "\"Create random vector of size 10 and replace the maximum value by 0\""
      ],
      "metadata": {
        "id": "GKokugbohKK5"
      },
      "execution_count": null,
      "outputs": []
    }
  ]
}