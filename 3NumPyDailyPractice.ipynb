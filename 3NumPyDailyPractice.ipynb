{
  "nbformat": 4,
  "nbformat_minor": 0,
  "metadata": {
    "colab": {
      "provenance": [],
      "authorship_tag": "ABX9TyNhv5YaZOV/ehMNK66z/q1g",
      "include_colab_link": true
    },
    "kernelspec": {
      "name": "python3",
      "display_name": "Python 3"
    },
    "language_info": {
      "name": "python"
    }
  },
  "cells": [
    {
      "cell_type": "markdown",
      "metadata": {
        "id": "view-in-github",
        "colab_type": "text"
      },
      "source": [
        "<a href=\"https://colab.research.google.com/github/Faith-Mueni/Python-Data-Analysis/blob/main/3NumPyDailyPractice.ipynb\" target=\"_parent\"><img src=\"https://colab.research.google.com/assets/colab-badge.svg\" alt=\"Open In Colab\"/></a>"
      ]
    },
    {
      "cell_type": "code",
      "source": [
        "import numpy as np\n"
      ],
      "metadata": {
        "id": "eylWYFW2icH9"
      },
      "execution_count": 1,
      "outputs": []
    },
    {
      "cell_type": "code",
      "source": [
        "print (np.__version__)\n",
        "np.show_config()\n"
      ],
      "metadata": {
        "colab": {
          "base_uri": "https://localhost:8080/"
        },
        "id": "-Jbco9e9ieMs",
        "outputId": "54318f90-8785-41a4-d31a-d4a35f7f9e54"
      },
      "execution_count": 2,
      "outputs": [
        {
          "output_type": "stream",
          "name": "stdout",
          "text": [
            "1.25.2\n",
            "openblas64__info:\n",
            "    libraries = ['openblas64_', 'openblas64_']\n",
            "    library_dirs = ['/usr/local/lib']\n",
            "    language = c\n",
            "    define_macros = [('HAVE_CBLAS', None), ('BLAS_SYMBOL_SUFFIX', '64_'), ('HAVE_BLAS_ILP64', None)]\n",
            "    runtime_library_dirs = ['/usr/local/lib']\n",
            "blas_ilp64_opt_info:\n",
            "    libraries = ['openblas64_', 'openblas64_']\n",
            "    library_dirs = ['/usr/local/lib']\n",
            "    language = c\n",
            "    define_macros = [('HAVE_CBLAS', None), ('BLAS_SYMBOL_SUFFIX', '64_'), ('HAVE_BLAS_ILP64', None)]\n",
            "    runtime_library_dirs = ['/usr/local/lib']\n",
            "openblas64__lapack_info:\n",
            "    libraries = ['openblas64_', 'openblas64_']\n",
            "    library_dirs = ['/usr/local/lib']\n",
            "    language = c\n",
            "    define_macros = [('HAVE_CBLAS', None), ('BLAS_SYMBOL_SUFFIX', '64_'), ('HAVE_BLAS_ILP64', None), ('HAVE_LAPACKE', None)]\n",
            "    runtime_library_dirs = ['/usr/local/lib']\n",
            "lapack_ilp64_opt_info:\n",
            "    libraries = ['openblas64_', 'openblas64_']\n",
            "    library_dirs = ['/usr/local/lib']\n",
            "    language = c\n",
            "    define_macros = [('HAVE_CBLAS', None), ('BLAS_SYMBOL_SUFFIX', '64_'), ('HAVE_BLAS_ILP64', None), ('HAVE_LAPACKE', None)]\n",
            "    runtime_library_dirs = ['/usr/local/lib']\n",
            "Supported SIMD extensions in this NumPy install:\n",
            "    baseline = SSE,SSE2,SSE3\n",
            "    found = SSSE3,SSE41,POPCNT,SSE42,AVX,F16C,FMA3,AVX2\n",
            "    not found = AVX512F,AVX512CD,AVX512_KNL,AVX512_KNM,AVX512_SKX,AVX512_CLX,AVX512_CNL,AVX512_ICL\n"
          ]
        }
      ]
    },
    {
      "cell_type": "code",
      "source": [
        "\"How to ignore all numpy warnings (not recommended)\"\n",
        "#defaults = np.seterr(all= \"ignore\")\n",
        "x = np.ones(1) / 0\n",
        "print(x)"
      ],
      "metadata": {
        "colab": {
          "base_uri": "https://localhost:8080/"
        },
        "id": "27yon-EFfeqO",
        "outputId": "eaecedd0-b7ef-43a9-f1b2-fec8322027dc"
      },
      "execution_count": 8,
      "outputs": [
        {
          "output_type": "stream",
          "name": "stdout",
          "text": [
            "[inf]\n"
          ]
        }
      ]
    },
    {
      "cell_type": "code",
      "source": [
        "\"\"\" Is the following expressions true?\n",
        "np.sqrt(-1) == np.emath.sqrt(-1)\n",
        "\"\"\"\n",
        "print(np.sqrt(-1) == np.emath.sqrt(-1))"
      ],
      "metadata": {
        "colab": {
          "base_uri": "https://localhost:8080/"
        },
        "id": "TDHCoxDzfmuU",
        "outputId": "22afc1d2-e97a-49b0-a733-a7d0822da223"
      },
      "execution_count": 9,
      "outputs": [
        {
          "output_type": "stream",
          "name": "stdout",
          "text": [
            "False\n"
          ]
        }
      ]
    },
    {
      "cell_type": "code",
      "source": [
        "\"How to get the dates of yesterday, today and tomorrow?\"\n",
        "yesterday = np.datetime64('today') - np.timedelta64(1)\n",
        "today     = np.datetime64('today')\n",
        "tomorrow  = np.datetime64('today') + np.timedelta64(1)\n",
        "print(yesterday)\n",
        "print(today)\n",
        "print(tomorrow)"
      ],
      "metadata": {
        "colab": {
          "base_uri": "https://localhost:8080/"
        },
        "id": "w7RTLO0afykU",
        "outputId": "30b976ea-27ef-4d26-95b7-3b78d9fe478a"
      },
      "execution_count": 12,
      "outputs": [
        {
          "output_type": "stream",
          "name": "stdout",
          "text": [
            "2024-02-19\n",
            "2024-02-20\n",
            "2024-02-21\n"
          ]
        }
      ]
    },
    {
      "cell_type": "code",
      "source": [
        "\"How to get all the dates corresponding to the month of July 2016\"\n",
        "x = np.arange('2016-07', '2016-08', dtype='datetime64[D]')\n",
        "print(x)"
      ],
      "metadata": {
        "colab": {
          "base_uri": "https://localhost:8080/"
        },
        "id": "7fq0_C-0f6VZ",
        "outputId": "5c13814d-de66-4808-be7d-74108ca1afaa"
      },
      "execution_count": 13,
      "outputs": [
        {
          "output_type": "stream",
          "name": "stdout",
          "text": [
            "['2016-07-01' '2016-07-02' '2016-07-03' '2016-07-04' '2016-07-05'\n",
            " '2016-07-06' '2016-07-07' '2016-07-08' '2016-07-09' '2016-07-10'\n",
            " '2016-07-11' '2016-07-12' '2016-07-13' '2016-07-14' '2016-07-15'\n",
            " '2016-07-16' '2016-07-17' '2016-07-18' '2016-07-19' '2016-07-20'\n",
            " '2016-07-21' '2016-07-22' '2016-07-23' '2016-07-24' '2016-07-25'\n",
            " '2016-07-26' '2016-07-27' '2016-07-28' '2016-07-29' '2016-07-30'\n",
            " '2016-07-31']\n"
          ]
        }
      ]
    },
    {
      "cell_type": "code",
      "source": [
        "\"How to compute ((A+B)*(-A/2)) in place (without copy)?\"\n",
        "A = np.ones(3)*1\n",
        "B = np.ones(3)*2\n",
        "w = np.add(A,B,out=B)\n",
        "x = np.divide(A,2,out=A)\n",
        "y = np.negative(A,out=A)\n",
        "z = np.multiply(A,B,out=A)\n",
        "print (A)\n",
        "print (B)\n",
        "print (w)\n",
        "print (x)\n",
        "print (y)\n",
        "print (z)\n"
      ],
      "metadata": {
        "colab": {
          "base_uri": "https://localhost:8080/"
        },
        "id": "_jjXMa4EgEzM",
        "outputId": "a9ed507e-f29b-4317-aa0a-cfa57cddf20c"
      },
      "execution_count": 19,
      "outputs": [
        {
          "output_type": "stream",
          "name": "stdout",
          "text": [
            "[-1.5 -1.5 -1.5]\n",
            "[3. 3. 3.]\n",
            "[3. 3. 3.]\n",
            "[-1.5 -1.5 -1.5]\n",
            "[-1.5 -1.5 -1.5]\n",
            "[-1.5 -1.5 -1.5]\n"
          ]
        }
      ]
    },
    {
      "cell_type": "code",
      "source": [
        "x =np.timedelta64(2)\n",
        "print(x)"
      ],
      "metadata": {
        "colab": {
          "base_uri": "https://localhost:8080/"
        },
        "id": "lhevCIwWr4l2",
        "outputId": "a22a33af-484f-48d7-9730-d9f147684e2c"
      },
      "execution_count": 16,
      "outputs": [
        {
          "output_type": "stream",
          "name": "stdout",
          "text": [
            "2 generic time units\n"
          ]
        }
      ]
    },
    {
      "cell_type": "code",
      "source": [
        "\"Extract the integer part of a random array of positive numbers using 4 different methods\"\n",
        "Z = np.random.uniform(0,10,10)\n",
        "\n",
        "print(Z - Z%1)\n",
        "print(Z // 1)\n",
        "print(np.floor(Z))\n",
        "print(Z.astype(int))\n",
        "print(np.trunc(Z))\n",
        "\n"
      ],
      "metadata": {
        "colab": {
          "base_uri": "https://localhost:8080/"
        },
        "id": "eHsscTMagL7-",
        "outputId": "c74bba8b-9d81-4dab-baab-392b2755e89d"
      },
      "execution_count": 4,
      "outputs": [
        {
          "output_type": "stream",
          "name": "stdout",
          "text": [
            "[1. 5. 0. 5. 3. 2. 3. 5. 5. 5.]\n",
            "[1. 5. 0. 5. 3. 2. 3. 5. 5. 5.]\n",
            "[1. 5. 0. 5. 3. 2. 3. 5. 5. 5.]\n",
            "[1 5 0 5 3 2 3 5 5 5]\n",
            "[1. 5. 0. 5. 3. 2. 3. 5. 5. 5.]\n"
          ]
        }
      ]
    },
    {
      "cell_type": "code",
      "source": [
        "\"Create a 5x5 matrix with row values ranging from 0 to 4\"\n",
        "Z = np.zeros((5,5))\n",
        "Z += np.arange(5)\n",
        "print(Z)\n"
      ],
      "metadata": {
        "colab": {
          "base_uri": "https://localhost:8080/"
        },
        "id": "svwtrobrgQjL",
        "outputId": "b7d01385-ab86-47af-c047-93528f7e1e3d"
      },
      "execution_count": 3,
      "outputs": [
        {
          "output_type": "stream",
          "name": "stdout",
          "text": [
            "[[0. 1. 2. 3. 4.]\n",
            " [0. 1. 2. 3. 4.]\n",
            " [0. 1. 2. 3. 4.]\n",
            " [0. 1. 2. 3. 4.]\n",
            " [0. 1. 2. 3. 4.]]\n"
          ]
        }
      ]
    },
    {
      "cell_type": "code",
      "source": [
        "\" Consider a generator function that generates 10 integers and use it to build an array\"\n",
        "Z = np.zeros((5,5))\n",
        "Z += np.arange(5)\n",
        "print(Z)"
      ],
      "metadata": {
        "colab": {
          "base_uri": "https://localhost:8080/"
        },
        "id": "jrlhhdxwgXb-",
        "outputId": "746c47e0-5b69-48a9-bd47-fbc8d66d77dc"
      },
      "execution_count": 5,
      "outputs": [
        {
          "output_type": "stream",
          "name": "stdout",
          "text": [
            "[[0. 1. 2. 3. 4.]\n",
            " [0. 1. 2. 3. 4.]\n",
            " [0. 1. 2. 3. 4.]\n",
            " [0. 1. 2. 3. 4.]\n",
            " [0. 1. 2. 3. 4.]]\n"
          ]
        }
      ]
    },
    {
      "cell_type": "code",
      "source": [
        "\"Create a vector of size 10 with values ranging from 0 to 1, both excluded\"\n",
        "Z = np.linspace(0,1,11,endpoint=False)[1:]\n",
        "print(Z)\n"
      ],
      "metadata": {
        "colab": {
          "base_uri": "https://localhost:8080/"
        },
        "id": "3kDct91dgfh7",
        "outputId": "173cfb58-9779-4f47-b0ce-6e96a2d47a8a"
      },
      "execution_count": 6,
      "outputs": [
        {
          "output_type": "stream",
          "name": "stdout",
          "text": [
            "[0.09090909 0.18181818 0.27272727 0.36363636 0.45454545 0.54545455\n",
            " 0.63636364 0.72727273 0.81818182 0.90909091]\n"
          ]
        }
      ]
    },
    {
      "cell_type": "code",
      "source": [
        "\"Create a random vector of size 10 and sort it\"\n",
        "Z = np.random.random(10)\n",
        "Z.sort()\n",
        "print(Z)\n"
      ],
      "metadata": {
        "colab": {
          "base_uri": "https://localhost:8080/"
        },
        "id": "xU9y3EbQglyJ",
        "outputId": "e9dcaec0-8915-4c03-d563-b50db4572523"
      },
      "execution_count": 7,
      "outputs": [
        {
          "output_type": "stream",
          "name": "stdout",
          "text": [
            "[0.02017758 0.07284895 0.1043437  0.23439471 0.29619792 0.46165435\n",
            " 0.52687881 0.89884929 0.94493677 0.95974996]\n"
          ]
        }
      ]
    },
    {
      "cell_type": "code",
      "source": [
        "\"How to sum a small array faster than np.sum\"\n",
        "Z = np.arange(10)\n",
        "np.add.reduce(Z)"
      ],
      "metadata": {
        "colab": {
          "base_uri": "https://localhost:8080/"
        },
        "id": "DGWfsJ2Tgs0L",
        "outputId": "ef8b5469-ff96-41a5-b031-ef72c06da7aa"
      },
      "execution_count": 8,
      "outputs": [
        {
          "output_type": "execute_result",
          "data": {
            "text/plain": [
              "45"
            ]
          },
          "metadata": {},
          "execution_count": 8
        }
      ]
    },
    {
      "cell_type": "code",
      "source": [
        "\"Consider two random array A and B, check if they are equal\"\n",
        "A = np.random.randint(0,2,5)\n",
        "B = np.random.randint(0,2,5)\n",
        "\n",
        "equal = np.allclose(A,B)\n",
        "print(equal)\n"
      ],
      "metadata": {
        "colab": {
          "base_uri": "https://localhost:8080/"
        },
        "id": "65CRUovbg5J9",
        "outputId": "2ab9cb3e-2cee-474d-c0e4-21b841cac0f8"
      },
      "execution_count": 10,
      "outputs": [
        {
          "output_type": "stream",
          "name": "stdout",
          "text": [
            "False\n"
          ]
        }
      ]
    },
    {
      "cell_type": "code",
      "source": [
        "\"Make an array immutable (read-only)\"\n",
        "Z = np.zeros(10)\n",
        "Z.flags.writeable = False\n",
        "Z[0] = 1"
      ],
      "metadata": {
        "id": "-VRBVrx4hBlp"
      },
      "execution_count": 13,
      "outputs": []
    },
    {
      "cell_type": "code",
      "source": [
        "\"Consider a random 10x2 matrix representing cartesian coordinates, convert them to polar coordinates\"\n",
        "Z = np.random.random((10,2))\n",
        "X,Y = Z[:,0], Z[:,1]\n",
        "R = np.sqrt(X**2+Y**2)\n",
        "T = np.arctan2(Y,X)\n",
        "print(R)\n",
        "print(T)"
      ],
      "metadata": {
        "colab": {
          "base_uri": "https://localhost:8080/"
        },
        "id": "Ww0au0dphHtK",
        "outputId": "25f703cf-78db-430f-d14f-60c41172315d"
      },
      "execution_count": 14,
      "outputs": [
        {
          "output_type": "stream",
          "name": "stdout",
          "text": [
            "[0.65298768 0.79706024 0.41621257 0.97467503 1.16097989 0.95730842\n",
            " 0.969839   0.32066727 0.41407752 0.9907917 ]\n",
            "[0.84393065 1.00423376 0.89852911 0.05467958 0.89886283 0.42876489\n",
            " 0.87474793 0.43919903 0.50225709 1.53483013]\n"
          ]
        }
      ]
    },
    {
      "cell_type": "code",
      "source": [
        "\"Create random vector of size 10 and replace the maximum value by 0\"\n",
        "Z = np.random.random(10)\n",
        "Z[Z.argmax()] = 0\n",
        "print(Z)"
      ],
      "metadata": {
        "colab": {
          "base_uri": "https://localhost:8080/"
        },
        "id": "GKokugbohKK5",
        "outputId": "b8e2a916-0ab6-45f4-9e11-1e0e9d17f598"
      },
      "execution_count": 15,
      "outputs": [
        {
          "output_type": "stream",
          "name": "stdout",
          "text": [
            "[0.5482222  0.38767678 0.53442741 0.07893326 0.05980095 0.05507836\n",
            " 0.47809845 0.         0.34922822 0.02763675]\n"
          ]
        }
      ]
    }
  ]
}