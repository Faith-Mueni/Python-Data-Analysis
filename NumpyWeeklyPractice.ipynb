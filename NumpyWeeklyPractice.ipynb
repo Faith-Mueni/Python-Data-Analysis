{
  "nbformat": 4,
  "nbformat_minor": 0,
  "metadata": {
    "colab": {
      "provenance": [],
      "authorship_tag": "ABX9TyMNBQgmWrV3v17sag2KxP9b",
      "include_colab_link": true
    },
    "kernelspec": {
      "name": "python3",
      "display_name": "Python 3"
    },
    "language_info": {
      "name": "python"
    }
  },
  "cells": [
    {
      "cell_type": "markdown",
      "metadata": {
        "id": "view-in-github",
        "colab_type": "text"
      },
      "source": [
        "<a href=\"https://colab.research.google.com/github/Faith-Mueni/Python-Data-Analysis/blob/main/NumpyWeeklyPractice.ipynb\" target=\"_parent\"><img src=\"https://colab.research.google.com/assets/colab-badge.svg\" alt=\"Open In Colab\"/></a>"
      ]
    },
    {
      "cell_type": "code",
      "execution_count": null,
      "metadata": {
        "id": "uTCVDbb8Hlp1"
      },
      "outputs": [],
      "source": [
        "\"Find the nearest value from a given value in an array\""
      ]
    },
    {
      "cell_type": "code",
      "source": [
        "\"Considering two arrays with shape (1,3) and (3,1), how to compute their sum using an iterator?\""
      ],
      "metadata": {
        "id": "Oqg1eTRFH9_T"
      },
      "execution_count": null,
      "outputs": []
    },
    {
      "cell_type": "code",
      "source": [
        "\"Create an array class that has a name attribute\""
      ],
      "metadata": {
        "id": "UsBBgXEfIEaW"
      },
      "execution_count": null,
      "outputs": []
    },
    {
      "cell_type": "code",
      "source": [
        "\"Consider a given vector, how to add 1 to each element indexed by a second vector (be careful with repeated indices)\""
      ],
      "metadata": {
        "id": "5j9-bvxwILbx"
      },
      "execution_count": null,
      "outputs": []
    },
    {
      "cell_type": "code",
      "source": [
        "\"How to accumulate elements of a vector (X) to an array (F) based on an index list (I)\""
      ],
      "metadata": {
        "id": "5-ReafLRIWkI"
      },
      "execution_count": null,
      "outputs": []
    },
    {
      "cell_type": "code",
      "source": [
        "\" Considering a (w,h,3) image of (dtype=ubyte), compute the number of unique colors\""
      ],
      "metadata": {
        "id": "Dhvg7HqiIcNF"
      },
      "execution_count": null,
      "outputs": []
    },
    {
      "cell_type": "code",
      "source": [
        "\"Considering a four dimensions array, how to get sum over the last two axis at once\""
      ],
      "metadata": {
        "id": "fZ47IrpAIluD"
      },
      "execution_count": null,
      "outputs": []
    },
    {
      "cell_type": "code",
      "source": [
        "\"Considering a one-dimensional vector D, how to compute means of subsets of D using a vector S of same size describing subset indices\""
      ],
      "metadata": {
        "id": "w93tFSeJIsK9"
      },
      "execution_count": null,
      "outputs": []
    },
    {
      "cell_type": "code",
      "source": [
        "\"How to get the diagonal of a dot product\""
      ],
      "metadata": {
        "id": "lJ8kc8hkIyZM"
      },
      "execution_count": null,
      "outputs": []
    },
    {
      "cell_type": "code",
      "source": [
        "\"Consider the vector [1, 2, 3, 4, 5], how to build a new vector with 3 consecutive zeros interleaved between each value\"\n"
      ],
      "metadata": {
        "id": "lU_IPHeOI5xj"
      },
      "execution_count": null,
      "outputs": []
    },
    {
      "cell_type": "code",
      "source": [
        "\"Consider an array of dimension (5,5,3), how to mulitply it by an array with dimensions (5,5)\""
      ],
      "metadata": {
        "id": "6uN_tHmcJC-O"
      },
      "execution_count": null,
      "outputs": []
    },
    {
      "cell_type": "code",
      "source": [
        "\"How to swap two rows of an array\""
      ],
      "metadata": {
        "id": "8YFALZkcJFZW"
      },
      "execution_count": null,
      "outputs": []
    },
    {
      "cell_type": "code",
      "source": [
        "\"Consider a set of 10 triplets describing 10 triangles (with shared vertices), find the set of unique line segments composing all the triangles\"\n"
      ],
      "metadata": {
        "id": "TBqlVtA6JSdK"
      },
      "execution_count": null,
      "outputs": []
    },
    {
      "cell_type": "code",
      "source": [
        "\"Given a sorted array C that corresponds to a bincount, how to produce an array A such that np.bincount(A) == C\"\n"
      ],
      "metadata": {
        "id": "fL5hImAtJcpU"
      },
      "execution_count": null,
      "outputs": []
    },
    {
      "cell_type": "code",
      "source": [
        "\"How to compute averages using a sliding window over an array\""
      ],
      "metadata": {
        "id": "4ZyuTL77Jmrg"
      },
      "execution_count": null,
      "outputs": []
    },
    {
      "cell_type": "code",
      "source": [
        "\"Consider a one-dimensional array Z, build a two-dimensional array whose first row is (Z[0],Z[1],Z[2]) and each subsequent row is shifted by 1 (last row should be (Z[-3],Z[-2],Z[-1])\""
      ],
      "metadata": {
        "id": "LDhooOvjJqt3"
      },
      "execution_count": null,
      "outputs": []
    },
    {
      "cell_type": "code",
      "source": [
        "\"How to negate a boolean, or to change the sign of a float inplace?\""
      ],
      "metadata": {
        "id": "lcMWZnuFJ0up"
      },
      "execution_count": null,
      "outputs": []
    },
    {
      "cell_type": "code",
      "source": [
        "\"Consider 2 sets of points P0,P1 describing lines (2d) and a point p, how to compute distance from p to each line i (P0[i],P1[i])?\""
      ],
      "metadata": {
        "id": "WLv0n2jUJ8M6"
      },
      "execution_count": null,
      "outputs": []
    },
    {
      "cell_type": "code",
      "source": [
        "\"Consider 2 sets of points P0,P1 describing lines (2d) and a set of points P, how to compute distance from each point j (P[j]) to each line i (P0[i],P1[i])?\""
      ],
      "metadata": {
        "id": "3d57lZUrKES8"
      },
      "execution_count": null,
      "outputs": []
    },
    {
      "cell_type": "code",
      "source": [
        "\"Consider an arbitrary array, write a function that extract a subpart with a fixed shape and centered on a given element (pad with a fill value when necessary)\""
      ],
      "metadata": {
        "id": "sYY0UIHUKMTX"
      },
      "execution_count": null,
      "outputs": []
    },
    {
      "cell_type": "code",
      "source": [
        "\"Consider an array Z = [1,2,3,4,5,6,7,8,9,10,11,12,13,14], how to generate an array R = [[1,2,3,4], [2,3,4,5], [3,4,5,6], ..., [11,12,13,14]]?\""
      ],
      "metadata": {
        "id": "ZjE93GO1KQrU"
      },
      "execution_count": null,
      "outputs": []
    },
    {
      "cell_type": "code",
      "source": [
        "\"Compute a matrix rank\""
      ],
      "metadata": {
        "id": "RFii541oKXMn"
      },
      "execution_count": null,
      "outputs": []
    },
    {
      "cell_type": "code",
      "source": [
        "\"How to find the most frequent value in an array?\""
      ],
      "metadata": {
        "id": "ghG79NCSKczj"
      },
      "execution_count": null,
      "outputs": []
    },
    {
      "cell_type": "code",
      "source": [
        "\"Extract all the contiguous 3x3 blocks from a random 10x10 matrix\""
      ],
      "metadata": {
        "id": "xQnR1Ur7KjCz"
      },
      "execution_count": null,
      "outputs": []
    },
    {
      "cell_type": "code",
      "source": [
        "\"Create a 2D array subclass such that Z[i,j] == Z[j,i]\""
      ],
      "metadata": {
        "id": "WMISQ1rpKsxQ"
      },
      "execution_count": null,
      "outputs": []
    },
    {
      "cell_type": "code",
      "source": [
        "\"Consider a set of p matrices wich shape (n,n) and a set of p vectors with shape (n,1). How to compute the sum of of the p matrix products at once? (result has shape (n,1)) \""
      ],
      "metadata": {
        "id": "bRV6mugQMwSm"
      },
      "execution_count": null,
      "outputs": []
    },
    {
      "cell_type": "code",
      "source": [
        "\"Consider a 16x16 array, how to get the block-sum (block size is 4x4)?\""
      ],
      "metadata": {
        "id": "z9ST0J5lM879"
      },
      "execution_count": null,
      "outputs": []
    },
    {
      "cell_type": "code",
      "source": [
        "\"How to implement the Game of Life using numpy arrays?\""
      ],
      "metadata": {
        "id": "Jp0_PVhgNBhY"
      },
      "execution_count": null,
      "outputs": []
    },
    {
      "cell_type": "code",
      "source": [
        "\"How to get the n largest values of an array\""
      ],
      "metadata": {
        "id": "_DkeXZi4NGlG"
      },
      "execution_count": null,
      "outputs": []
    },
    {
      "cell_type": "code",
      "source": [
        "\"Given an arbitrary number of vectors, build the cartesian product (every combinations of every item)\""
      ],
      "metadata": {
        "id": "3EE6cfFDNLyK"
      },
      "execution_count": null,
      "outputs": []
    },
    {
      "cell_type": "code",
      "source": [
        "\"How to create a record array from a regular array?\""
      ],
      "metadata": {
        "id": "QhwQ8gKuNQNW"
      },
      "execution_count": null,
      "outputs": []
    },
    {
      "cell_type": "code",
      "source": [
        "\"Consider a large vector Z, compute Z to the power of 3 using 3 different methods\""
      ],
      "metadata": {
        "id": "v0-UdVgVNVNV"
      },
      "execution_count": null,
      "outputs": []
    },
    {
      "cell_type": "code",
      "source": [
        "\"Consider two arrays A and B of shape (8,3) and (2,2). How to find rows of A that contain elements of each row of B regardless of the order of the elements in B?\""
      ],
      "metadata": {
        "id": "CZz-s188NZ_i"
      },
      "execution_count": null,
      "outputs": []
    },
    {
      "cell_type": "code",
      "source": [
        "\"Considering a 10x3 matrix, extract rows with unequal values (e.g. [2,2,3])\""
      ],
      "metadata": {
        "id": "YQLIKUBZNf72"
      },
      "execution_count": null,
      "outputs": []
    },
    {
      "cell_type": "code",
      "source": [
        "\"Convert a vector of ints into a matrix binary representation\""
      ],
      "metadata": {
        "id": "0-uSyGISNkox"
      },
      "execution_count": null,
      "outputs": []
    },
    {
      "cell_type": "code",
      "source": [
        "\"Given a two dimensional array, how to extract unique rows? \""
      ],
      "metadata": {
        "id": "VW03qFbUNmE9"
      },
      "execution_count": null,
      "outputs": []
    },
    {
      "cell_type": "code",
      "source": [
        "\"Considering 2 vectors A & B, write the einsum equivalent of inner, outer, sum, and mul function\""
      ],
      "metadata": {
        "id": "AlByOVRnNrSA"
      },
      "execution_count": null,
      "outputs": []
    },
    {
      "cell_type": "code",
      "source": [
        "\"Considering a path described by two vectors (X,Y), how to sample it using equidistant samples\""
      ],
      "metadata": {
        "id": "Ei_OEw7SN1nC"
      },
      "execution_count": null,
      "outputs": []
    },
    {
      "cell_type": "code",
      "source": [
        "\"Given an integer n and a 2D array X, select from X the rows which can be interpreted as draws from a multinomial distribution with n degrees, i.e., the rows which only contain integers and which sum to n.\""
      ],
      "metadata": {
        "id": "rj8qs3sSN7H2"
      },
      "execution_count": null,
      "outputs": []
    },
    {
      "cell_type": "code",
      "source": [
        "\"Compute bootstrapped 95% confidence intervals for the mean of a 1D array X (i.e., resample the elements of an array with replacement N times, compute the mean of each sample, and then compute percentiles over the means). \""
      ],
      "metadata": {
        "id": "uA4wh0byOBN0"
      },
      "execution_count": null,
      "outputs": []
    }
  ]
}