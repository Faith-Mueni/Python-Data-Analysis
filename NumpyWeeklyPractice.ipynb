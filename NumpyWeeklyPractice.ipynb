{
  "nbformat": 4,
  "nbformat_minor": 0,
  "metadata": {
    "colab": {
      "provenance": [],
      "authorship_tag": "ABX9TyMV2cYlL1+5HgnFg5TvR4D7",
      "include_colab_link": true
    },
    "kernelspec": {
      "name": "python3",
      "display_name": "Python 3"
    },
    "language_info": {
      "name": "python"
    }
  },
  "cells": [
    {
      "cell_type": "markdown",
      "metadata": {
        "id": "view-in-github",
        "colab_type": "text"
      },
      "source": [
        "<a href=\"https://colab.research.google.com/github/Faith-Mueni/Python-Data-Analysis/blob/main/NumpyWeeklyPractice.ipynb\" target=\"_parent\"><img src=\"https://colab.research.google.com/assets/colab-badge.svg\" alt=\"Open In Colab\"/></a>"
      ]
    },
    {
      "cell_type": "code",
      "source": [
        "import numpy as np"
      ],
      "metadata": {
        "id": "4hO75wmWoX11"
      },
      "execution_count": 2,
      "outputs": []
    },
    {
      "cell_type": "code",
      "source": [],
      "metadata": {
        "id": "0StBkh8LoXe1"
      },
      "execution_count": null,
      "outputs": []
    },
    {
      "cell_type": "code",
      "execution_count": 115,
      "metadata": {
        "colab": {
          "base_uri": "https://localhost:8080/"
        },
        "id": "uTCVDbb8Hlp1",
        "outputId": "dcf8fac3-89fd-48df-e552-84e26c814826"
      },
      "outputs": [
        {
          "output_type": "stream",
          "name": "stdout",
          "text": [
            "0.5435985275840334\n"
          ]
        }
      ],
      "source": [
        "\"Find the nearest value from a given value in an array\"\n",
        "Z = np.random.uniform(0,1,10)\n",
        "z = 0.5\n",
        "m = Z.flat[np.abs(Z - z).argmin()]\n",
        "print(m)"
      ]
    },
    {
      "cell_type": "code",
      "source": [
        "\"Considering two arrays with shape (1,3) and (3,1), how to compute their sum using an iterator?\"\n",
        "A = np.arange(3).reshape(3,1)\n",
        "B = np.arange(3).reshape(1,3)\n",
        "it = np.nditer([A,B,None])\n",
        "for x,y,z in it: z[...] = x + y\n",
        "print(it.operands[2])"
      ],
      "metadata": {
        "colab": {
          "base_uri": "https://localhost:8080/"
        },
        "id": "Oqg1eTRFH9_T",
        "outputId": "a8e4e524-87f8-4a8d-f876-31f9437b3059"
      },
      "execution_count": 114,
      "outputs": [
        {
          "output_type": "stream",
          "name": "stdout",
          "text": [
            "[[0 1 2]\n",
            " [1 2 3]\n",
            " [2 3 4]]\n"
          ]
        }
      ]
    },
    {
      "cell_type": "code",
      "source": [
        "\"Create an array class that has a name attribute\"\n",
        "class NamedArray(np.ndarray):\n",
        "    def __new__(cls, array, name=\"no name\"):\n",
        "        obj = np.asarray(array).view(cls)\n",
        "        obj.name = name\n",
        "        return obj\n",
        "    def __array_finalize__(self, obj):\n",
        "        if obj is None: return\n",
        "        self.name = getattr(obj, 'name', \"no name\")\n",
        "\n",
        "Z = NamedArray(np.arange(10), \"range_10\")\n",
        "print (Z.name)"
      ],
      "metadata": {
        "colab": {
          "base_uri": "https://localhost:8080/"
        },
        "id": "UsBBgXEfIEaW",
        "outputId": "aa99349e-2927-4e54-fe78-4d2a75026dd8"
      },
      "execution_count": 113,
      "outputs": [
        {
          "output_type": "stream",
          "name": "stdout",
          "text": [
            "range_10\n"
          ]
        }
      ]
    },
    {
      "cell_type": "code",
      "source": [
        "\"Consider a given vector, how to add 1 to each element indexed by a second vector (be careful with repeated indices)\"\n",
        "Z = np.ones(10)\n",
        "I = np.random.randint(0,len(Z),20)\n",
        "Z += np.bincount(I, minlength=len(Z))\n",
        "print(Z)"
      ],
      "metadata": {
        "colab": {
          "base_uri": "https://localhost:8080/"
        },
        "id": "5j9-bvxwILbx",
        "outputId": "e773ea3c-91f6-450a-c69f-1f639aceb368"
      },
      "execution_count": 112,
      "outputs": [
        {
          "output_type": "stream",
          "name": "stdout",
          "text": [
            "[4. 5. 4. 3. 2. 5. 2. 3. 1. 1.]\n"
          ]
        }
      ]
    },
    {
      "cell_type": "code",
      "source": [
        "\"How to accumulate elements of a vector (X) to an array (F) based on an index list (I)\"\n",
        "X = [1,2,3,4,5,6]\n",
        "I = [1,3,9,3,4,1]\n",
        "F = np.bincount(I,X)\n",
        "print(F)"
      ],
      "metadata": {
        "colab": {
          "base_uri": "https://localhost:8080/"
        },
        "id": "5-ReafLRIWkI",
        "outputId": "65c0da85-5ea2-4063-aa3c-2c60040821e8"
      },
      "execution_count": 110,
      "outputs": [
        {
          "output_type": "stream",
          "name": "stdout",
          "text": [
            "[0. 7. 0. 6. 5. 0. 0. 0. 0. 3.]\n"
          ]
        }
      ]
    },
    {
      "cell_type": "code",
      "source": [
        "\" Considering a (w,h,3) image of (dtype=ubyte), compute the number of unique colors\"\n",
        "w, h = 256, 256\n",
        "I = np.random.randint(0, 4, (h, w, 3)).astype(np.ubyte)\n",
        "colors = np.unique(I.reshape(-1, 3), axis=0)\n",
        "n = len(colors)\n",
        "print(n)"
      ],
      "metadata": {
        "colab": {
          "base_uri": "https://localhost:8080/"
        },
        "id": "Dhvg7HqiIcNF",
        "outputId": "65cb521e-8c45-4820-9f74-9156b3127458"
      },
      "execution_count": 109,
      "outputs": [
        {
          "output_type": "stream",
          "name": "stdout",
          "text": [
            "64\n"
          ]
        }
      ]
    },
    {
      "cell_type": "code",
      "source": [
        "\"Considering a four dimensions array, how to get sum over the last two axis at once\"\n",
        "A = np.random.randint(0,10,(3,4,3,4))\n",
        "# solution by passing a tuple of axes (introduced in numpy 1.7.0)\n",
        "sum = A.sum(axis=(-2,-1))\n",
        "print(sum)\n",
        "# solution by flattening the last two dimensions into one\n",
        "# (useful for functions that don't accept tuples for axis argument)\n",
        "sum = A.reshape(A.shape[:-2] + (-1,)).sum(axis=-1)\n",
        "print(sum)"
      ],
      "metadata": {
        "colab": {
          "base_uri": "https://localhost:8080/"
        },
        "id": "fZ47IrpAIluD",
        "outputId": "bb73c7ad-d5ef-4c80-f7d9-2e9c342d57d6"
      },
      "execution_count": 108,
      "outputs": [
        {
          "output_type": "stream",
          "name": "stdout",
          "text": [
            "[[37 62 43 63]\n",
            " [57 40 47 53]\n",
            " [57 61 45 54]]\n",
            "[[37 62 43 63]\n",
            " [57 40 47 53]\n",
            " [57 61 45 54]]\n"
          ]
        }
      ]
    },
    {
      "cell_type": "code",
      "source": [
        "\"Considering a one-dimensional vector D, how to compute means of subsets of D using a vector S of same size describing subset indices\"\n",
        "D = np.random.uniform(0,1,100)\n",
        "S = np.random.randint(0,10,100)\n",
        "D_sums = np.bincount(S, weights=D)\n",
        "D_counts = np.bincount(S)\n",
        "D_means = D_sums / D_counts\n",
        "print(D_means)"
      ],
      "metadata": {
        "colab": {
          "base_uri": "https://localhost:8080/"
        },
        "id": "w93tFSeJIsK9",
        "outputId": "611e8661-6aff-425d-ea24-315b327af463"
      },
      "execution_count": 107,
      "outputs": [
        {
          "output_type": "stream",
          "name": "stdout",
          "text": [
            "[0.57943051 0.51096648 0.48044149 0.48400775 0.49547179 0.48811204\n",
            " 0.65376866 0.52476612 0.32042178 0.28600412]\n"
          ]
        }
      ]
    },
    {
      "cell_type": "code",
      "source": [
        "\"How to get the diagonal of a dot product\"\n",
        "A = np.random.uniform(0,1,(5,5))\n",
        "B = np.random.uniform(0,1,(5,5))\n",
        "\n",
        "# Slow version\n",
        "np.diag(np.dot(A, B))"
      ],
      "metadata": {
        "colab": {
          "base_uri": "https://localhost:8080/"
        },
        "id": "lJ8kc8hkIyZM",
        "outputId": "4b588d0f-f364-407d-99ee-0c516f291007"
      },
      "execution_count": 106,
      "outputs": [
        {
          "output_type": "execute_result",
          "data": {
            "text/plain": [
              "array([0.62838822, 0.75748348, 1.05078292, 1.13081015, 0.72506167])"
            ]
          },
          "metadata": {},
          "execution_count": 106
        }
      ]
    },
    {
      "cell_type": "code",
      "source": [
        "\"Consider the vector [1, 2, 3, 4, 5], how to build a new vector with 3 consecutive zeros interleaved between each value\"\n",
        "Z = np.array([1,2,3,4,5])\n",
        "nz = 3\n",
        "Z0 = np.zeros(len(Z) + (len(Z)-1)*(nz))\n",
        "Z0[::nz+1] = Z\n",
        "print(Z0)\n"
      ],
      "metadata": {
        "colab": {
          "base_uri": "https://localhost:8080/"
        },
        "id": "lU_IPHeOI5xj",
        "outputId": "21578f46-1b10-4ddf-9169-5f13cbbd4def"
      },
      "execution_count": 105,
      "outputs": [
        {
          "output_type": "stream",
          "name": "stdout",
          "text": [
            "[1. 0. 0. 0. 2. 0. 0. 0. 3. 0. 0. 0. 4. 0. 0. 0. 5.]\n"
          ]
        }
      ]
    },
    {
      "cell_type": "code",
      "source": [
        "\"Consider an array of dimension (5,5,3), how to mulitply it by an array with dimensions (5,5)\"\n",
        "A = np.ones((5,5,3))\n",
        "B = 2*np.ones((5,5))\n",
        "print(A * B[:,:,None])"
      ],
      "metadata": {
        "colab": {
          "base_uri": "https://localhost:8080/"
        },
        "id": "6uN_tHmcJC-O",
        "outputId": "b92b67d2-977f-4515-8d22-2abfaec69403"
      },
      "execution_count": 104,
      "outputs": [
        {
          "output_type": "stream",
          "name": "stdout",
          "text": [
            "[[[2. 2. 2.]\n",
            "  [2. 2. 2.]\n",
            "  [2. 2. 2.]\n",
            "  [2. 2. 2.]\n",
            "  [2. 2. 2.]]\n",
            "\n",
            " [[2. 2. 2.]\n",
            "  [2. 2. 2.]\n",
            "  [2. 2. 2.]\n",
            "  [2. 2. 2.]\n",
            "  [2. 2. 2.]]\n",
            "\n",
            " [[2. 2. 2.]\n",
            "  [2. 2. 2.]\n",
            "  [2. 2. 2.]\n",
            "  [2. 2. 2.]\n",
            "  [2. 2. 2.]]\n",
            "\n",
            " [[2. 2. 2.]\n",
            "  [2. 2. 2.]\n",
            "  [2. 2. 2.]\n",
            "  [2. 2. 2.]\n",
            "  [2. 2. 2.]]\n",
            "\n",
            " [[2. 2. 2.]\n",
            "  [2. 2. 2.]\n",
            "  [2. 2. 2.]\n",
            "  [2. 2. 2.]\n",
            "  [2. 2. 2.]]]\n"
          ]
        }
      ]
    },
    {
      "cell_type": "code",
      "source": [
        "\"How to swap two rows of an array\"\n",
        "A = np.arange(25).reshape(5,5)\n",
        "A[[0,1]] = A[[1,0]]\n",
        "print(A)"
      ],
      "metadata": {
        "colab": {
          "base_uri": "https://localhost:8080/"
        },
        "id": "8YFALZkcJFZW",
        "outputId": "72dae37b-b600-4310-b807-9a857631c45c"
      },
      "execution_count": 103,
      "outputs": [
        {
          "output_type": "stream",
          "name": "stdout",
          "text": [
            "[[ 5  6  7  8  9]\n",
            " [ 0  1  2  3  4]\n",
            " [10 11 12 13 14]\n",
            " [15 16 17 18 19]\n",
            " [20 21 22 23 24]]\n"
          ]
        }
      ]
    },
    {
      "cell_type": "code",
      "source": [
        "\"Consider a set of 10 triplets describing 10 triangles (with shared vertices), find the set of unique line segments composing all the triangles\"\n",
        "faces = np.random.randint(0,100,(10,3))\n",
        "F = np.roll(faces.repeat(2,axis=1),-1,axis=1)\n",
        "F = F.reshape(len(F)*3,2)\n",
        "F = np.sort(F,axis=1)\n",
        "G = F.view( dtype=[('p0',F.dtype),('p1',F.dtype)] )\n",
        "G = np.unique(G)\n",
        "print(G)\n"
      ],
      "metadata": {
        "colab": {
          "base_uri": "https://localhost:8080/"
        },
        "id": "TBqlVtA6JSdK",
        "outputId": "3f3f6465-e417-47d4-f60d-5b39866c32cf"
      },
      "execution_count": 102,
      "outputs": [
        {
          "output_type": "stream",
          "name": "stdout",
          "text": [
            "[( 0, 43) ( 0, 88) ( 9, 14) ( 9, 98) (12, 78) (12, 79) (14, 98) (15, 40)\n",
            " (15, 58) (15, 59) (15, 80) (20, 48) (20, 74) (20, 76) (20, 89) (22, 75)\n",
            " (22, 97) (40, 59) (41, 67) (41, 85) (43, 88) (48, 74) (57, 88) (57, 94)\n",
            " (58, 80) (67, 85) (75, 97) (76, 89) (78, 79) (88, 94)]\n"
          ]
        }
      ]
    },
    {
      "cell_type": "code",
      "source": [
        "\"Given a sorted array C that corresponds to a bincount, how to produce an array A such that np.bincount(A) == C\"\n",
        "C = np.bincount([1,1,2,3,4,4,6])\n",
        "A = np.repeat(np.arange(len(C)), C)\n",
        "print(A)\n"
      ],
      "metadata": {
        "colab": {
          "base_uri": "https://localhost:8080/"
        },
        "id": "fL5hImAtJcpU",
        "outputId": "838b48b1-bf0f-4840-878b-db11df7c854f"
      },
      "execution_count": 101,
      "outputs": [
        {
          "output_type": "stream",
          "name": "stdout",
          "text": [
            "[1 1 2 3 4 4 6]\n"
          ]
        }
      ]
    },
    {
      "cell_type": "code",
      "source": [
        "\"How to compute averages using a sliding window over an array\""
      ],
      "metadata": {
        "id": "4ZyuTL77Jmrg"
      },
      "execution_count": null,
      "outputs": []
    },
    {
      "cell_type": "code",
      "source": [
        "\"Consider a one-dimensional array Z, build a two-dimensional array whose first row is (Z[0],Z[1],Z[2]) and each subsequent row is shifted by 1 (last row should be (Z[-3],Z[-2],Z[-1])\"\n",
        "def rolling(a, window):\n",
        "    shape = (a.size - window + 1, window)\n",
        "    strides = (a.strides[0], a.strides[0])\n",
        "\n",
        "    return np.stride_tricks.as_strided(a, shape=shape, strides=strides)\n",
        "Z = rolling(np.arange(10), 3)\n",
        "print(Z)"
      ],
      "metadata": {
        "colab": {
          "base_uri": "https://localhost:8080/",
          "height": 339
        },
        "id": "LDhooOvjJqt3",
        "outputId": "03eab09a-e2a3-4e96-d9ad-87aff0a0bea4"
      },
      "execution_count": 100,
      "outputs": [
        {
          "output_type": "error",
          "ename": "AttributeError",
          "evalue": "module 'numpy' has no attribute 'stride_tricks'",
          "traceback": [
            "\u001b[0;31m---------------------------------------------------------------------------\u001b[0m",
            "\u001b[0;31mAttributeError\u001b[0m                            Traceback (most recent call last)",
            "\u001b[0;32m<ipython-input-100-8a3f5f7953c5>\u001b[0m in \u001b[0;36m<cell line: 7>\u001b[0;34m()\u001b[0m\n\u001b[1;32m      5\u001b[0m \u001b[0;34m\u001b[0m\u001b[0m\n\u001b[1;32m      6\u001b[0m     \u001b[0;32mreturn\u001b[0m \u001b[0mnp\u001b[0m\u001b[0;34m.\u001b[0m\u001b[0mstride_tricks\u001b[0m\u001b[0;34m.\u001b[0m\u001b[0mas_strided\u001b[0m\u001b[0;34m(\u001b[0m\u001b[0ma\u001b[0m\u001b[0;34m,\u001b[0m \u001b[0mshape\u001b[0m\u001b[0;34m=\u001b[0m\u001b[0mshape\u001b[0m\u001b[0;34m,\u001b[0m \u001b[0mstrides\u001b[0m\u001b[0;34m=\u001b[0m\u001b[0mstrides\u001b[0m\u001b[0;34m)\u001b[0m\u001b[0;34m\u001b[0m\u001b[0;34m\u001b[0m\u001b[0m\n\u001b[0;32m----> 7\u001b[0;31m \u001b[0mZ\u001b[0m \u001b[0;34m=\u001b[0m \u001b[0mrolling\u001b[0m\u001b[0;34m(\u001b[0m\u001b[0mnp\u001b[0m\u001b[0;34m.\u001b[0m\u001b[0marange\u001b[0m\u001b[0;34m(\u001b[0m\u001b[0;36m10\u001b[0m\u001b[0;34m)\u001b[0m\u001b[0;34m,\u001b[0m \u001b[0;36m3\u001b[0m\u001b[0;34m)\u001b[0m\u001b[0;34m\u001b[0m\u001b[0;34m\u001b[0m\u001b[0m\n\u001b[0m\u001b[1;32m      8\u001b[0m \u001b[0mprint\u001b[0m\u001b[0;34m(\u001b[0m\u001b[0mZ\u001b[0m\u001b[0;34m)\u001b[0m\u001b[0;34m\u001b[0m\u001b[0;34m\u001b[0m\u001b[0m\n",
            "\u001b[0;32m<ipython-input-100-8a3f5f7953c5>\u001b[0m in \u001b[0;36mrolling\u001b[0;34m(a, window)\u001b[0m\n\u001b[1;32m      4\u001b[0m     \u001b[0mstrides\u001b[0m \u001b[0;34m=\u001b[0m \u001b[0;34m(\u001b[0m\u001b[0ma\u001b[0m\u001b[0;34m.\u001b[0m\u001b[0mstrides\u001b[0m\u001b[0;34m[\u001b[0m\u001b[0;36m0\u001b[0m\u001b[0;34m]\u001b[0m\u001b[0;34m,\u001b[0m \u001b[0ma\u001b[0m\u001b[0;34m.\u001b[0m\u001b[0mstrides\u001b[0m\u001b[0;34m[\u001b[0m\u001b[0;36m0\u001b[0m\u001b[0;34m]\u001b[0m\u001b[0;34m)\u001b[0m\u001b[0;34m\u001b[0m\u001b[0;34m\u001b[0m\u001b[0m\n\u001b[1;32m      5\u001b[0m \u001b[0;34m\u001b[0m\u001b[0m\n\u001b[0;32m----> 6\u001b[0;31m     \u001b[0;32mreturn\u001b[0m \u001b[0mnp\u001b[0m\u001b[0;34m.\u001b[0m\u001b[0mstride_tricks\u001b[0m\u001b[0;34m.\u001b[0m\u001b[0mas_strided\u001b[0m\u001b[0;34m(\u001b[0m\u001b[0ma\u001b[0m\u001b[0;34m,\u001b[0m \u001b[0mshape\u001b[0m\u001b[0;34m=\u001b[0m\u001b[0mshape\u001b[0m\u001b[0;34m,\u001b[0m \u001b[0mstrides\u001b[0m\u001b[0;34m=\u001b[0m\u001b[0mstrides\u001b[0m\u001b[0;34m)\u001b[0m\u001b[0;34m\u001b[0m\u001b[0;34m\u001b[0m\u001b[0m\n\u001b[0m\u001b[1;32m      7\u001b[0m \u001b[0mZ\u001b[0m \u001b[0;34m=\u001b[0m \u001b[0mrolling\u001b[0m\u001b[0;34m(\u001b[0m\u001b[0mnp\u001b[0m\u001b[0;34m.\u001b[0m\u001b[0marange\u001b[0m\u001b[0;34m(\u001b[0m\u001b[0;36m10\u001b[0m\u001b[0;34m)\u001b[0m\u001b[0;34m,\u001b[0m \u001b[0;36m3\u001b[0m\u001b[0;34m)\u001b[0m\u001b[0;34m\u001b[0m\u001b[0;34m\u001b[0m\u001b[0m\n\u001b[1;32m      8\u001b[0m \u001b[0mprint\u001b[0m\u001b[0;34m(\u001b[0m\u001b[0mZ\u001b[0m\u001b[0;34m)\u001b[0m\u001b[0;34m\u001b[0m\u001b[0;34m\u001b[0m\u001b[0m\n",
            "\u001b[0;32m/usr/local/lib/python3.10/dist-packages/numpy/__init__.py\u001b[0m in \u001b[0;36m__getattr__\u001b[0;34m(attr)\u001b[0m\n\u001b[1;32m    326\u001b[0m             \u001b[0;32mraise\u001b[0m \u001b[0mRuntimeError\u001b[0m\u001b[0;34m(\u001b[0m\u001b[0;34m\"Tester was removed in NumPy 1.25.\"\u001b[0m\u001b[0;34m)\u001b[0m\u001b[0;34m\u001b[0m\u001b[0;34m\u001b[0m\u001b[0m\n\u001b[1;32m    327\u001b[0m \u001b[0;34m\u001b[0m\u001b[0m\n\u001b[0;32m--> 328\u001b[0;31m         raise AttributeError(\"module {!r} has no attribute \"\n\u001b[0m\u001b[1;32m    329\u001b[0m                              \"{!r}\".format(__name__, attr))\n\u001b[1;32m    330\u001b[0m \u001b[0;34m\u001b[0m\u001b[0m\n",
            "\u001b[0;31mAttributeError\u001b[0m: module 'numpy' has no attribute 'stride_tricks'"
          ]
        }
      ]
    },
    {
      "cell_type": "code",
      "source": [
        "\"How to negate a boolean, or to change the sign of a float inplace?\"\n",
        "Z = np.random.randint(0,2,100)\n",
        "np.logical_not(Z, out=Z)\n",
        "\n",
        "Z = np.random.uniform(-1.0,1.0,100)\n",
        "np.negative(Z, out=Z)\n"
      ],
      "metadata": {
        "colab": {
          "base_uri": "https://localhost:8080/"
        },
        "id": "lcMWZnuFJ0up",
        "outputId": "8e25002c-c7f2-4bc4-893f-81b90f820d3a"
      },
      "execution_count": 99,
      "outputs": [
        {
          "output_type": "execute_result",
          "data": {
            "text/plain": [
              "array([ 0.29074398, -0.621516  ,  0.23094126,  0.41451497,  0.75649107,\n",
              "       -0.34827369,  0.17470218, -0.02705511, -0.60614833,  0.21167159,\n",
              "       -0.37708953, -0.33775862,  0.67982769, -0.29106855,  0.72177455,\n",
              "        0.75129686, -0.61975453, -0.6844148 ,  0.72409824,  0.33689507,\n",
              "       -0.66462227, -0.6285507 , -0.59404185,  0.3883661 ,  0.43957334,\n",
              "       -0.391439  ,  0.2160728 ,  0.09574149, -0.43101828,  0.07672431,\n",
              "        0.55518966,  0.58054157, -0.75158468,  0.56247435, -0.06738208,\n",
              "       -0.94658138, -0.60128478,  0.67818826, -0.20692859, -0.45572325,\n",
              "       -0.80643342, -0.10469837, -0.43978165,  0.36568218,  0.51467201,\n",
              "       -0.53422196,  0.61707911, -0.77738261, -0.26265456, -0.04755179,\n",
              "       -0.71561391, -0.18353367, -0.20358217,  0.00132195, -0.70703267,\n",
              "       -0.43717505, -0.50107129,  0.59363718, -0.56054499, -0.99027566,\n",
              "        0.00858257, -0.05115694,  0.43195779,  0.37118993, -0.89980486,\n",
              "       -0.81826066,  0.06191269, -0.07155238,  0.59142157, -0.85979063,\n",
              "        0.82611604, -0.80900557, -0.41473733, -0.85627869,  0.05419919,\n",
              "       -0.30723645, -0.70038544, -0.38180987,  0.60702629, -0.94658983,\n",
              "       -0.52783193, -0.48506327, -0.07033144, -0.9434651 ,  0.35703449,\n",
              "       -0.62597086, -0.36806899, -0.25723133, -0.05366121,  0.50760728,\n",
              "        0.54357429, -0.18769905,  0.82853258, -0.05676998,  0.78558611,\n",
              "       -0.35645017,  0.86155927,  0.37590289, -0.24396615,  0.55913715])"
            ]
          },
          "metadata": {},
          "execution_count": 99
        }
      ]
    },
    {
      "cell_type": "code",
      "source": [
        "\"Consider 2 sets of points P0,P1 describing lines (2d) and a point p, how to compute distance from p to each line i (P0[i],P1[i])?\"\n",
        "def distance(P0, P1, p):\n",
        "    T = P1 - P0\n",
        "    L = (T**2).sum(axis=1)\n",
        "    U = -((P0[:,0]-p[...,0])*T[:,0] + (P0[:,1]-p[...,1])*T[:,1]) / L\n",
        "    U = U.reshape(len(U),1)\n",
        "    D = P0 + U*T - p\n",
        "    return np.sqrt((D**2).sum(axis=1))\n",
        "\n",
        "P0 = np.random.uniform(-10,10,(10,2))\n",
        "P1 = np.random.uniform(-10,10,(10,2))\n",
        "p  = np.random.uniform(-10,10,( 1,2))\n",
        "print(distance(P0, P1, p))"
      ],
      "metadata": {
        "colab": {
          "base_uri": "https://localhost:8080/"
        },
        "id": "WLv0n2jUJ8M6",
        "outputId": "62e667a3-b662-4b73-df81-86dc641868cb"
      },
      "execution_count": 98,
      "outputs": [
        {
          "output_type": "stream",
          "name": "stdout",
          "text": [
            "[0.93300909 1.93695807 0.3656308  2.97604596 1.63401493 9.28780254\n",
            " 1.17622646 2.58870577 5.07505549 5.36101495]\n"
          ]
        }
      ]
    },
    {
      "cell_type": "code",
      "source": [
        "\"Consider 2 sets of points P0,P1 describing lines (2d) and a set of points P, how to compute distance from each point j (P[j]) to each line i (P0[i],P1[i])?\"\n",
        "P0 = np.random.uniform(-10, 10, (10,2))\n",
        "P1 = np.random.uniform(-10,10,(10,2))\n",
        "p = np.random.uniform(-10, 10, (10,2))\n",
        "print(np.array([P0,P1,p]))"
      ],
      "metadata": {
        "colab": {
          "base_uri": "https://localhost:8080/"
        },
        "id": "3d57lZUrKES8",
        "outputId": "e137433f-2d43-4854-d558-2a298f3ecb2a"
      },
      "execution_count": 97,
      "outputs": [
        {
          "output_type": "stream",
          "name": "stdout",
          "text": [
            "[[[-0.89820127  4.39526924]\n",
            "  [-2.82219059  5.55454304]\n",
            "  [-7.52093774 -4.29443617]\n",
            "  [ 1.96647177  1.50946455]\n",
            "  [ 8.27968765 -1.72600704]\n",
            "  [-6.92282006  9.2003509 ]\n",
            "  [ 6.74779043 -8.61655497]\n",
            "  [ 6.34703671  4.00143225]\n",
            "  [-3.19019735 -4.61668756]\n",
            "  [ 7.15164263  3.74426924]]\n",
            "\n",
            " [[ 9.53786811  8.97221192]\n",
            "  [ 2.4040631   2.4321736 ]\n",
            "  [-3.61081247 -6.97433606]\n",
            "  [ 0.66637836 -5.82727149]\n",
            "  [-3.71912554  5.42961903]\n",
            "  [-6.85108127 -8.02964551]\n",
            "  [ 3.9650367   9.56532344]\n",
            "  [-9.90418986  1.31780651]\n",
            "  [-3.67513182 -9.07847415]\n",
            "  [ 5.05926182 -5.28692652]]\n",
            "\n",
            " [[ 3.69638528  3.71970242]\n",
            "  [-3.76457855  5.24220866]\n",
            "  [ 3.00042489 -1.43266492]\n",
            "  [-9.2848285   7.20137078]\n",
            "  [ 3.73858501  7.39631349]\n",
            "  [-0.94230952 -1.95005958]\n",
            "  [-5.15075473  3.1055544 ]\n",
            "  [ 6.54697279 -1.84965285]\n",
            "  [-0.95572089 -5.11106661]\n",
            "  [-1.26005933 -5.57073137]]]\n"
          ]
        }
      ]
    },
    {
      "cell_type": "code",
      "source": [
        "\"Consider an arbitrary array, write a function that extract a subpart with a fixed shape and centered on a given element (pad with a fill value when necessary)\"\n",
        "Z = np.random.randint(0,10,(10,10))\n",
        "shape = (5,5)\n",
        "fill  = 0\n",
        "position = (1,1)\n",
        "\n",
        "R = np.ones(shape, dtype=Z.dtype)*fill\n",
        "P  = np.array(list(position)).astype(int)\n",
        "Rs = np.array(list(R.shape)).astype(int)\n",
        "Zs = np.array(list(Z.shape)).astype(int)\n",
        "\n",
        "R_start = np.zeros((len(shape),)).astype(int)\n",
        "R_stop  = np.array(list(shape)).astype(int)\n",
        "Z_start = (P-Rs//2)\n",
        "Z_stop  = (P+Rs//2)+Rs%2\n",
        "\n",
        "R_start = (R_start - np.minimum(Z_start,0)).tolist()\n",
        "Z_start = (np.maximum(Z_start,0)).tolist()\n",
        "R_stop = np.maximum(R_start, (R_stop - np.maximum(Z_stop-Zs,0))).tolist()\n",
        "Z_stop = (np.minimum(Z_stop,Zs)).tolist()\n",
        "\n",
        "r = [slice(start,stop) for start,stop in zip(R_start,R_stop)]\n",
        "z = [slice(start,stop) for start,stop in zip(Z_start,Z_stop)]\n",
        "\n",
        "print(r)\n",
        "print(z)"
      ],
      "metadata": {
        "colab": {
          "base_uri": "https://localhost:8080/"
        },
        "id": "sYY0UIHUKMTX",
        "outputId": "d8fe33aa-676e-4f19-f9f6-84d99e9c70ba"
      },
      "execution_count": 90,
      "outputs": [
        {
          "output_type": "stream",
          "name": "stdout",
          "text": [
            "[slice(1, 5, None), slice(1, 5, None)]\n",
            "[slice(0, 4, None), slice(0, 4, None)]\n"
          ]
        }
      ]
    },
    {
      "cell_type": "code",
      "source": [
        "\"Consider an array Z = [1,2,3,4,5,6,7,8,9,10,11,12,13,14], how to generate an array R = [[1,2,3,4], [2,3,4,5], [3,4,5,6], ..., [11,12,13,14]]?\"\n",
        "Z = np.arange(1,15,dtype=np.uint32)\n",
        "R = np.lib.stride_tricks.as_strided(Z,(11,4),(4,4))\n",
        "print(R)"
      ],
      "metadata": {
        "colab": {
          "base_uri": "https://localhost:8080/"
        },
        "id": "ZjE93GO1KQrU",
        "outputId": "8d48d96b-d09a-41df-dfe7-191b5f347c9c"
      },
      "execution_count": 88,
      "outputs": [
        {
          "output_type": "stream",
          "name": "stdout",
          "text": [
            "[[ 1  2  3  4]\n",
            " [ 2  3  4  5]\n",
            " [ 3  4  5  6]\n",
            " [ 4  5  6  7]\n",
            " [ 5  6  7  8]\n",
            " [ 6  7  8  9]\n",
            " [ 7  8  9 10]\n",
            " [ 8  9 10 11]\n",
            " [ 9 10 11 12]\n",
            " [10 11 12 13]\n",
            " [11 12 13 14]]\n"
          ]
        }
      ]
    },
    {
      "cell_type": "code",
      "source": [
        "\"Compute a matrix rank\"\n",
        "rank = np.linalg.matrix_rank(Z)\n",
        "print(rank)"
      ],
      "metadata": {
        "colab": {
          "base_uri": "https://localhost:8080/"
        },
        "id": "RFii541oKXMn",
        "outputId": "60be9b8f-1a12-4987-accb-1797d955d6ea"
      },
      "execution_count": 79,
      "outputs": [
        {
          "output_type": "stream",
          "name": "stdout",
          "text": [
            "1\n"
          ]
        }
      ]
    },
    {
      "cell_type": "code",
      "source": [
        "\"How to find the most frequent value in an array?\"\n",
        "Z = np.random.randint(0,10,50)\n",
        "print(np.bincount(Z).argmax())"
      ],
      "metadata": {
        "colab": {
          "base_uri": "https://localhost:8080/"
        },
        "id": "ghG79NCSKczj",
        "outputId": "68d8ed31-6f50-4121-9ea1-878b8af62dfa"
      },
      "execution_count": 78,
      "outputs": [
        {
          "output_type": "stream",
          "name": "stdout",
          "text": [
            "3\n"
          ]
        }
      ]
    },
    {
      "cell_type": "code",
      "source": [
        "\"Create a 2D array subclass such that Z[i,j] == Z[j,i]\"\n",
        "class Symetric(np.ndarray):\n",
        "    def __setitem__(self, index, value):\n",
        "        i,j = index\n",
        "        super(Symetric, self).__setitem__((i,j), value)\n",
        "        super(Symetric, self).__setitem__((j,i), value)\n",
        "\n",
        "def symetric(Z):\n",
        "    return np.asarray(Z + Z.T - np.diag(Z.diagonal())).view(Symetric)\n",
        "\n",
        "S = symetric(np.random.randint(0,10,(5,5)))\n",
        "S[2,3] = 42\n",
        "print(S)"
      ],
      "metadata": {
        "colab": {
          "base_uri": "https://localhost:8080/"
        },
        "id": "WMISQ1rpKsxQ",
        "outputId": "25979b65-45f2-4114-97d2-06541e5a8538"
      },
      "execution_count": 70,
      "outputs": [
        {
          "output_type": "stream",
          "name": "stdout",
          "text": [
            "[[ 9  8 11  5  8]\n",
            " [ 8  2 11  8  4]\n",
            " [11 11  8 42 14]\n",
            " [ 5  8 42  5  9]\n",
            " [ 8  4 14  9  9]]\n"
          ]
        }
      ]
    },
    {
      "cell_type": "code",
      "source": [
        "\"Consider a set of p matrices wich shape (n,n) and a set of p vectors with shape (n,1). How to compute the sum of of the p matrix products at once? (result has shape (n,1)) \"\n",
        "p, n = 10, 20\n",
        "M = np.ones((p,n,n))\n",
        "V = np.ones((p,n,1))\n",
        "S = np.tensordot(M, V, axes=[[0, 2], [0, 1]])\n",
        "print(S)"
      ],
      "metadata": {
        "colab": {
          "base_uri": "https://localhost:8080/"
        },
        "id": "bRV6mugQMwSm",
        "outputId": "27963477-2f86-461d-8df4-deceea1075b4"
      },
      "execution_count": 69,
      "outputs": [
        {
          "output_type": "stream",
          "name": "stdout",
          "text": [
            "[[200.]\n",
            " [200.]\n",
            " [200.]\n",
            " [200.]\n",
            " [200.]\n",
            " [200.]\n",
            " [200.]\n",
            " [200.]\n",
            " [200.]\n",
            " [200.]\n",
            " [200.]\n",
            " [200.]\n",
            " [200.]\n",
            " [200.]\n",
            " [200.]\n",
            " [200.]\n",
            " [200.]\n",
            " [200.]\n",
            " [200.]\n",
            " [200.]]\n"
          ]
        }
      ]
    },
    {
      "cell_type": "code",
      "source": [
        "\"Consider a 16x16 array, how to get the block-sum (block size is 4x4)?\"\n",
        "Z = np.ones((16,16))\n",
        "k = 4\n",
        "S = np.add.reduceat(np.add.reduceat(Z, np.arange(0, Z.shape[0], k), axis=0), np.arange(0, Z.shape[1], k), axis=1)\n",
        "print(S)"
      ],
      "metadata": {
        "colab": {
          "base_uri": "https://localhost:8080/"
        },
        "id": "z9ST0J5lM879",
        "outputId": "2719e71a-37ab-4625-8c11-02b09a4cae94"
      },
      "execution_count": 68,
      "outputs": [
        {
          "output_type": "stream",
          "name": "stdout",
          "text": [
            "[[16. 16. 16. 16.]\n",
            " [16. 16. 16. 16.]\n",
            " [16. 16. 16. 16.]\n",
            " [16. 16. 16. 16.]]\n"
          ]
        }
      ]
    },
    {
      "cell_type": "code",
      "source": [
        "\"How to implement the Game of Life using numpy arrays?\"\n",
        "def iterate(Z):\n",
        "    # Count neighbours\n",
        "    N = (Z[0:-2,0:-2] + Z[0:-2,1:-1] + Z[0:-2,2:] +\n",
        "         Z[1:-1,0:-2]                + Z[1:-1,2:] +\n",
        "         Z[2:  ,0:-2] + Z[2:  ,1:-1] + Z[2:  ,2:])\n",
        "\n",
        "    # Apply rules\n",
        "    Career = (N==3) & (Z[1:-1,1:-1]==0)\n",
        "    College = ((N==2) | (N==3)) & (Z[1:-1,1:-1]==1)\n",
        "    Z[...] = 0\n",
        "    Z[1:-1,1:-1][Career | College ] = 1\n",
        "    return Z\n",
        "\n",
        "Z = np.random.randint(0,2,(50,50))\n",
        "for i in range(100): Z = iterate(Z)\n",
        "print(Z)"
      ],
      "metadata": {
        "colab": {
          "base_uri": "https://localhost:8080/"
        },
        "id": "Jp0_PVhgNBhY",
        "outputId": "8b1d99e2-d2f6-4ccd-9443-260f02a67644"
      },
      "execution_count": 66,
      "outputs": [
        {
          "output_type": "stream",
          "name": "stdout",
          "text": [
            "[[0 0 0 ... 0 0 0]\n",
            " [0 0 0 ... 0 0 0]\n",
            " [0 0 0 ... 1 0 0]\n",
            " ...\n",
            " [0 0 0 ... 0 0 0]\n",
            " [0 0 0 ... 0 0 0]\n",
            " [0 0 0 ... 0 0 0]]\n"
          ]
        }
      ]
    },
    {
      "cell_type": "code",
      "source": [
        "\"How to get the n largest values of an array\"\n",
        "arr = np.array([2,100,90,88,60,99,80])\n",
        "print(arr[np.argsort(arr)[-4:]])\n"
      ],
      "metadata": {
        "colab": {
          "base_uri": "https://localhost:8080/"
        },
        "id": "_DkeXZi4NGlG",
        "outputId": "0bd604ff-355b-4981-bfa5-8f23a71216a3"
      },
      "execution_count": 51,
      "outputs": [
        {
          "output_type": "stream",
          "name": "stdout",
          "text": [
            "[ 88  90  99 100]\n"
          ]
        }
      ]
    },
    {
      "cell_type": "code",
      "source": [
        "\"Given an arbitrary number of vectors, build the cartesian product (every combinations of every item)\"\n",
        "def cartesian(arrays):\n",
        "    arrays = [np.asarray(a) for a in arrays]\n",
        "    shape = (len(x) for x in arrays)\n",
        "\n",
        "    ix = np.indices(shape, dtype=int)\n",
        "    ix = ix.reshape(len(arrays), -1).T\n",
        "\n",
        "    for n, arr in enumerate(arrays):\n",
        "        ix[:, n] = arrays[n][ix[:, n]]\n",
        "\n",
        "    return ix\n",
        "\n",
        "print (cartesian[1, 2, 3], [4, 5], [6, 7])\n"
      ],
      "metadata": {
        "colab": {
          "base_uri": "https://localhost:8080/"
        },
        "id": "3EE6cfFDNLyK",
        "outputId": "60f80c93-3b72-43ef-c7ae-0dfb2510cdb2"
      },
      "execution_count": 31,
      "outputs": [
        {
          "output_type": "stream",
          "name": "stdout",
          "text": [
            "[[1 4 6]\n",
            " [1 4 7]\n",
            " [1 5 6]\n",
            " [1 5 7]\n",
            " [2 4 6]\n",
            " [2 4 7]\n",
            " [2 5 6]\n",
            " [2 5 7]\n",
            " [3 4 6]\n",
            " [3 4 7]\n",
            " [3 5 6]\n",
            " [3 5 7]]\n"
          ]
        }
      ]
    },
    {
      "cell_type": "code",
      "source": [
        "\"How to create a record array from a regular array?\"\n",
        "Z = np.array([(\"Hello\", 2.5, 3),\n",
        "              (\"World\", 3.6, 2)])\n",
        "R = np.core.records.fromarrays(Z.T,\n",
        "                               names='col1, col2, col3',\n",
        "                               formats = 'S8, f8, i8')\n",
        "print(R)"
      ],
      "metadata": {
        "colab": {
          "base_uri": "https://localhost:8080/"
        },
        "id": "QhwQ8gKuNQNW",
        "outputId": "2d911cab-0b3a-447b-af1f-72e28fdd5fbd"
      },
      "execution_count": 30,
      "outputs": [
        {
          "output_type": "stream",
          "name": "stdout",
          "text": [
            "[(b'Hello', 2.5, 3) (b'World', 3.6, 2)]\n"
          ]
        }
      ]
    },
    {
      "cell_type": "code",
      "source": [
        "\"Consider a large vector Z, compute Z to the power of 3 using 3 different methods\"\n",
        "x = np.random.rand(int(5e7))\n",
        "\n",
        "%timeit np.power(x,3)\n",
        "%timeit x*x*x\n",
        "%timeit np.einsum('i,i,i->i',x,x,x)"
      ],
      "metadata": {
        "colab": {
          "base_uri": "https://localhost:8080/"
        },
        "id": "v0-UdVgVNVNV",
        "outputId": "5628cf9d-dfaf-45a3-e7e5-ccbaf52b4ea3"
      },
      "execution_count": 29,
      "outputs": [
        {
          "output_type": "stream",
          "name": "stdout",
          "text": [
            "1.3 s ± 12.1 ms per loop (mean ± std. dev. of 7 runs, 1 loop each)\n",
            "223 ms ± 9.3 ms per loop (mean ± std. dev. of 7 runs, 1 loop each)\n",
            "191 ms ± 19.2 ms per loop (mean ± std. dev. of 7 runs, 1 loop each)\n"
          ]
        }
      ]
    },
    {
      "cell_type": "code",
      "source": [
        "\"Consider two arrays A and B of shape (8,3) and (2,2). How to find rows of A that contain elements of each row of B regardless of the order of the elements in B?\"\n",
        "A = np.random.randint(0,5,(8,3))\n",
        "B = np.random.randint(0,5,(2,2))\n",
        "\n",
        "C = (A[..., np.newaxis, np.newaxis] == B)\n",
        "rows = np.where(C.any((3,1)).all(1))[0]\n",
        "print(rows)"
      ],
      "metadata": {
        "colab": {
          "base_uri": "https://localhost:8080/"
        },
        "id": "CZz-s188NZ_i",
        "outputId": "73f20724-6144-47b4-c857-a0300a20aa49"
      },
      "execution_count": 28,
      "outputs": [
        {
          "output_type": "stream",
          "name": "stdout",
          "text": [
            "[0 1 2 3 4 5 7]\n"
          ]
        }
      ]
    },
    {
      "cell_type": "code",
      "source": [
        "# prompt: Consider two arrays A and B of shape (8,3) and (2,2). How to find rows of A that contain elements of each row of B regardless of the order of the elements in B\n",
        "\n",
        "A = np.random.randint(0,5,(8,3))\n",
        "B = np.random.randint(0,5,(2,2))\n",
        "\n",
        "C = (A[..., np.newaxis, np.newaxis] == B)\n",
        "rows = np.where(C.any((3,1)).all(1))[0]\n",
        "print(rows)\n"
      ],
      "metadata": {
        "id": "sgBd_cR0WmE3"
      },
      "execution_count": null,
      "outputs": []
    },
    {
      "cell_type": "code",
      "source": [
        "\"Considering a 10x3 matrix, extract rows with unequal values (e.g. [2,2,3])\"\n",
        "Z = np.random.randint(0,8,(10,3))\n",
        "print(Z)"
      ],
      "metadata": {
        "colab": {
          "base_uri": "https://localhost:8080/"
        },
        "id": "YQLIKUBZNf72",
        "outputId": "4248986d-119c-43ad-8e13-064a437b2d28"
      },
      "execution_count": 59,
      "outputs": [
        {
          "output_type": "stream",
          "name": "stdout",
          "text": [
            "[[0 0 4]\n",
            " [3 4 1]\n",
            " [6 2 6]\n",
            " [7 7 3]\n",
            " [5 1 6]\n",
            " [7 0 5]\n",
            " [2 4 0]\n",
            " [5 5 7]\n",
            " [3 1 2]\n",
            " [4 3 0]]\n"
          ]
        }
      ]
    },
    {
      "cell_type": "code",
      "source": [
        "\"Convert a vector of ints into a matrix binary representation\"\n",
        "I = np.array([0, 1, 2, 3, 15, 16, 32, 64, 128])\n",
        "B = ((I.reshape(-1,1) & (2**np.arange(8))) != 0).astype(int)\n",
        "print(B[:,::-1])"
      ],
      "metadata": {
        "colab": {
          "base_uri": "https://localhost:8080/"
        },
        "id": "0-uSyGISNkox",
        "outputId": "016b871b-4ebf-4db0-878c-87e67fe34644"
      },
      "execution_count": 23,
      "outputs": [
        {
          "output_type": "stream",
          "name": "stdout",
          "text": [
            "[[0 0 0 0 0 0 0 0]\n",
            " [0 0 0 0 0 0 0 1]\n",
            " [0 0 0 0 0 0 1 0]\n",
            " [0 0 0 0 0 0 1 1]\n",
            " [0 0 0 0 1 1 1 1]\n",
            " [0 0 0 1 0 0 0 0]\n",
            " [0 0 1 0 0 0 0 0]\n",
            " [0 1 0 0 0 0 0 0]\n",
            " [1 0 0 0 0 0 0 0]]\n"
          ]
        }
      ]
    },
    {
      "cell_type": "code",
      "source": [
        "\"Given a two dimensional array, how to extract unique rows? \"\n",
        "Z = np.random.randint(0,2,(6,3))\n",
        "unique_row = np.unique(Z, axis=0)\n",
        "print(unique_row)"
      ],
      "metadata": {
        "colab": {
          "base_uri": "https://localhost:8080/"
        },
        "id": "TB_q0X24vNfp",
        "outputId": "accd7646-61e7-40d1-ab4f-91b384a4c5b2"
      },
      "execution_count": 22,
      "outputs": [
        {
          "output_type": "stream",
          "name": "stdout",
          "text": [
            "[[0 1 0]\n",
            " [1 0 1]\n",
            " [1 1 0]]\n"
          ]
        }
      ]
    },
    {
      "cell_type": "code",
      "source": [
        "\"Given a two dimensional array, how to extract unique rows? \"\n",
        "# Create a 2D array\n",
        "array = np.array([[1, 2, 3], [4, 5, 6], [1, 2, 3], [7, 8, 9]])\n",
        "\n",
        "# Get unique rows\n",
        "unique_rows = np.unique(array, axis=0)\n",
        "\n",
        "# Print the unique rows\n",
        "print(unique_rows)\n"
      ],
      "metadata": {
        "colab": {
          "base_uri": "https://localhost:8080/"
        },
        "id": "VW03qFbUNmE9",
        "outputId": "29ea1266-d7c3-4def-bba0-238ad5ed341b"
      },
      "execution_count": 20,
      "outputs": [
        {
          "output_type": "stream",
          "name": "stdout",
          "text": [
            "[[1 2 3]\n",
            " [4 5 6]\n",
            " [7 8 9]]\n"
          ]
        }
      ]
    },
    {
      "cell_type": "code",
      "source": [
        "# prompt: Given a two dimensional array, how to extract unique rows?\n",
        "\n",
        "import numpy as np\n",
        "\n",
        "# Create a 2D array\n",
        "array = np.array([[1, 2, 3], [4, 5, 6], [1, 2, 3], [7, 8, 9]])\n",
        "\n",
        "# Get unique rows\n",
        "unique_rows = np.unique(array, axis=0)\n",
        "\n",
        "# Print the unique rows\n",
        "print(unique_rows)\n"
      ],
      "metadata": {
        "id": "GICE54fDuPWh"
      },
      "execution_count": null,
      "outputs": []
    },
    {
      "cell_type": "code",
      "source": [
        "\"Considering 2 vectors A & B, write the einsum equivalent of inner, outer, sum, and mul function\"\n",
        "A = np.random.uniform(0,1,10)\n",
        "B = np.random.uniform(0,1,10)\n",
        "\n",
        "np.einsum('i->', A)       # np.sum(A)\n",
        "np.einsum('i,i->i', A, B) # A * B\n",
        "np.einsum('i,i', A, B)    # np.inner(A, B)\n",
        "np.einsum('i,j->ij', A, B)    # np.outer(A, B)"
      ],
      "metadata": {
        "colab": {
          "base_uri": "https://localhost:8080/"
        },
        "id": "AlByOVRnNrSA",
        "outputId": "9ad041dc-fcc8-4761-f9a7-66fdf1f016ba"
      },
      "execution_count": 19,
      "outputs": [
        {
          "output_type": "execute_result",
          "data": {
            "text/plain": [
              "array([[0.18393338, 0.44952658, 0.05827014, 0.01474274, 0.44139075,\n",
              "        0.22093434, 0.22982217, 0.17809461, 0.10614902, 0.26426485],\n",
              "       [0.20203806, 0.49377378, 0.06400571, 0.01619388, 0.48483713,\n",
              "        0.24268105, 0.25244372, 0.19562458, 0.11659734, 0.29027661],\n",
              "       [0.3017828 , 0.73754634, 0.09560487, 0.02418869, 0.72419773,\n",
              "        0.36249095, 0.37707336, 0.29220303, 0.17416061, 0.43358408],\n",
              "       [0.37718528, 0.92182728, 0.11949239, 0.03023239, 0.90514343,\n",
              "        0.45306176, 0.47128769, 0.36521193, 0.21767581, 0.541918  ],\n",
              "       [0.06613218, 0.16162467, 0.02095069, 0.00530067, 0.15869948,\n",
              "        0.07943566, 0.08263122, 0.06403288, 0.03816526, 0.09501489],\n",
              "       [0.22276949, 0.54444064, 0.07057343, 0.01785556, 0.53458698,\n",
              "        0.26758292, 0.27834734, 0.21569791, 0.12856156, 0.32006232],\n",
              "       [0.04093837, 0.10005191, 0.01296929, 0.00328132, 0.0982411 ,\n",
              "        0.04917374, 0.05115192, 0.03963883, 0.02362577, 0.05881788],\n",
              "       [0.38796337, 0.94816856, 0.1229069 , 0.03109629, 0.93100796,\n",
              "        0.46600803, 0.48475477, 0.37564789, 0.22389591, 0.55740334],\n",
              "       [0.37956541, 0.92764425, 0.12024642, 0.03042317, 0.91085512,\n",
              "        0.4559207 , 0.47426164, 0.36751652, 0.2190494 , 0.54533764],\n",
              "       [0.02519092, 0.06156571, 0.00798049, 0.00201912, 0.06045145,\n",
              "        0.03025845, 0.0314757 , 0.02439126, 0.01453783, 0.03619286]])"
            ]
          },
          "metadata": {},
          "execution_count": 19
        }
      ]
    },
    {
      "cell_type": "code",
      "source": [
        "# prompt: Considering a path described by two vectors (X,Y), how to sample it using equidistant samples\n",
        "\n",
        "import numpy as np\n",
        "\n",
        "def equidistant_sampling(X, Y, num_points):\n",
        "  \"\"\"\n",
        "  Samples a path described by two vectors (X,Y) using equidistant samples.\n",
        "\n",
        "  Args:\n",
        "      X: A numpy array representing the X coordinates of the path.\n",
        "      Y: A numpy array representing the Y coordinates of the path.\n",
        "      num_points: The number of equidistant samples to generate.\n",
        "\n",
        "  Returns:\n",
        "      A tuple of two numpy arrays representing the X and Y coordinates of the sampled points.\n",
        "  \"\"\"\n",
        "\n",
        "  # Calculate the total length of the path.\n",
        "  path_length = np.sum(np.sqrt(np.diff(X)**2 + np.diff(Y)**2))\n",
        "\n",
        "  # Generate equally spaced points along the path.\n",
        "  t = np.linspace(0, path_length, num_points)\n",
        "\n",
        "  # Interpolate the X and Y coordinates at the equally spaced points.\n",
        "  X_sampled = np.interp(t, np.cumsum(np.sqrt(np.diff(X)**2 + np.diff(Y)**2)), X[:-1])\n",
        "  Y_sampled = np.interp(t, np.cumsum(np.sqrt(np.diff(X)**2 + np.diff(Y)**2)), Y[:-1])\n",
        "\n",
        "  return (X_sampled, Y_sampled)\n"
      ],
      "metadata": {
        "id": "fWdjJkwwp9C2"
      },
      "execution_count": 18,
      "outputs": []
    },
    {
      "cell_type": "code",
      "source": [
        "\"Considering a path described by two vectors (X,Y), how to sample it using equidistant samples\"\n",
        "phi = np.arange(0, 10*np.pi, 0.1)\n",
        "a = 1\n",
        "x = a*phi*np.cos(phi)\n",
        "y = a*phi*np.sin(phi)\n",
        "\n",
        "dr = (np.diff(x)**2 + np.diff(y)**2)**.5 # segment lengths\n",
        "r = np.zeros_like(x)\n",
        "r[1:] = np.cumsum(dr)                # integrate path\n",
        "r_int = np.linspace(0, r.max(), 200) # regular spaced path\n",
        "x_int = np.interp(r_int, r, x)       # integrate path\n",
        "y_int = np.interp(r_int, r, y)"
      ],
      "metadata": {
        "id": "Ei_OEw7SN1nC"
      },
      "execution_count": 12,
      "outputs": []
    },
    {
      "cell_type": "code",
      "source": [
        "\"Given an integer n and a 2D array X, select from X the rows which can be interpreted as draws from a multinomial distribution with n degrees, i.e., the rows which only contain integers and which sum to n.\"\n",
        "X = np.asarray([[1.0, 0.0, 3.0, 8.0],\n",
        "                [2.0, 0.0, 1.0, 1.0],\n",
        "                [1.5, 2.5, 1.0, 0.0]])\n",
        "n = 4\n",
        "M = np.logical_and.reduce(np.mod(X, 1) == 0, axis=-1)\n",
        "M &= (X.sum(axis=-1) == n)\n",
        "print(X[M])"
      ],
      "metadata": {
        "colab": {
          "base_uri": "https://localhost:8080/"
        },
        "id": "rj8qs3sSN7H2",
        "outputId": "66bee901-81df-4196-9024-a8de0c76626c"
      },
      "execution_count": 11,
      "outputs": [
        {
          "output_type": "stream",
          "name": "stdout",
          "text": [
            "[[2. 0. 1. 1.]]\n"
          ]
        }
      ]
    },
    {
      "cell_type": "code",
      "source": [
        "\"Compute bootstrapped 95% confidence intervals for the mean of a 1D array X (i.e., resample the elements of an array with replacement N times, compute the mean of each sample, and then compute percentiles over the means). \"\n",
        "X = np.random.random(100) # random 1D array\n",
        "N = 1000 # number of bootstrap samples\n",
        "idx = np.random.randint(0, X.size, (N, X.size))\n",
        "means = X[idx].mean(axis=1)\n",
        "confint = np.percentile(means, [2.5, 97.5])\n",
        "print(confint)"
      ],
      "metadata": {
        "colab": {
          "base_uri": "https://localhost:8080/"
        },
        "id": "uA4wh0byOBN0",
        "outputId": "30f52459-22b7-462e-d7af-c0750f08307c"
      },
      "execution_count": 10,
      "outputs": [
        {
          "output_type": "stream",
          "name": "stdout",
          "text": [
            "[0.44042476 0.55417697]\n"
          ]
        }
      ]
    }
  ]
}