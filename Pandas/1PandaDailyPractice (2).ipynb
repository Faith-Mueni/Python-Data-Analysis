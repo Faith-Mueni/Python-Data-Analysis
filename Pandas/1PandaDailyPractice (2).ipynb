{
  "nbformat": 4,
  "nbformat_minor": 0,
  "metadata": {
    "colab": {
      "provenance": [],
      "authorship_tag": "ABX9TyOQLZ6XblFBGSi9oq7H6ghJ",
      "include_colab_link": true
    },
    "kernelspec": {
      "name": "python3",
      "display_name": "Python 3"
    },
    "language_info": {
      "name": "python"
    }
  },
  "cells": [
    {
      "cell_type": "markdown",
      "metadata": {
        "id": "view-in-github",
        "colab_type": "text"
      },
      "source": [
        "<a href=\"https://colab.research.google.com/github/Faith-Mueni/Python-Data-Analysis/blob/main/1PandaDailyPractice.ipynb\" target=\"_parent\"><img src=\"https://colab.research.google.com/assets/colab-badge.svg\" alt=\"Open In Colab\"/></a>"
      ]
    },
    {
      "cell_type": "code",
      "execution_count": 5,
      "metadata": {
        "id": "n9m-bAY6SgLj"
      },
      "outputs": [],
      "source": [
        "#Step 1. Import the necessary libraries\n",
        "import pandas as pd\n"
      ]
    },
    {
      "cell_type": "code",
      "source": [
        "#Step 2. Create a data dictionary that looks like the DataFrame below"
      ],
      "metadata": {
        "id": "Xj2r_s1vStVY"
      },
      "execution_count": null,
      "outputs": []
    },
    {
      "cell_type": "code",
      "source": [
        "\"\"\" evolution\thp\tname\tpokedex\telement\n",
        "0\tIvysaur\t45\tBulbasaur\tyes\tgrass\n",
        "1\tCharmeleon\t39\tCharmander\tno\tfire\n",
        "2\tWartortle\t44\tSquirtle\tyes\twater\n",
        "3\tMetapod\t45\tCaterpie\tno\tbug\n",
        "Step 4. Ops...it seems the DataFrame columns are in alphabetical order. Place the order of the columns as name, type, hp, evolution, pokedex\"\"\""
      ],
      "metadata": {
        "id": "Cjr4e0eCS6Cq"
      },
      "execution_count": null,
      "outputs": []
    },
    {
      "cell_type": "code",
      "source": [
        "#Step 3. Assign it to a variable called pokemon\n",
        "pokemon =  {\n",
        "    'id': [0, 1, 2, 3],\n",
        "    'Evolution': ['Ivysaur', 'Charmeleon', 'Wartortle', 'Metapod'],\n",
        "    'hit_points': [45, 39, 44, 45],\n",
        "    'Name': ['Bulbasaur', 'Charmander', 'Squirtle', 'Caterpie'],\n",
        "    'pokedex': ['yes', 'no', 'yes', 'no'],\n",
        "    'element': ['grass', 'fire', 'water', 'bug']\n",
        "    }\n",
        "print(pokemon)\n",
        "\n"
      ],
      "metadata": {
        "id": "1c1NW5RjS4Gi",
        "colab": {
          "base_uri": "https://localhost:8080/"
        },
        "outputId": "dacabff8-fbc3-4d30-8b2a-03615dd65c51"
      },
      "execution_count": 21,
      "outputs": [
        {
          "output_type": "stream",
          "name": "stdout",
          "text": [
            "{'id': [0, 1, 2, 3], 'Evolution': ['Ivysaur', 'Charmeleon', 'Wartortle', 'Metapod'], 'hit_points': [45, 39, 44, 45], 'Name': ['Bulbasaur', 'Charmander', 'Squirtle', 'Caterpie'], 'pokedex': ['yes', 'no', 'yes', 'no'], 'element': ['grass', 'fire', 'water', 'bug']}\n"
          ]
        }
      ]
    },
    {
      "cell_type": "code",
      "source": [
        "#Step 5. Add another column called place, and insert what you have in mind.\n",
        "Place = ('air','rocks','water bodies', 'rotting wood')"
      ],
      "metadata": {
        "id": "IZK3TY2nTBir"
      },
      "execution_count": 11,
      "outputs": []
    },
    {
      "cell_type": "code",
      "source": [
        "#Step 6. Present the type of each column\n",
        "df = pd.DataFrame(pokemon)\n",
        "Place = {'Place_found': [ 'air','rocks','water bodies', 'rotting wood']}\n",
        "new_column_df = pd.DataFrame(Place)\n",
        "\n",
        "\n",
        "# Combine the original DataFrame and the new columns DataFrame\n",
        "result_df = pd.concat([df, new_column_df], axis=1)\n",
        "print(result_df)\n",
        "\n"
      ],
      "metadata": {
        "id": "BzYKiHhbTFOg",
        "colab": {
          "base_uri": "https://localhost:8080/"
        },
        "outputId": "132e75e1-badf-4f8a-906c-8ca08e350794"
      },
      "execution_count": 27,
      "outputs": [
        {
          "output_type": "stream",
          "name": "stdout",
          "text": [
            "   id   Evolution  hit_points        Name pokedex element   Place_found\n",
            "0   0     Ivysaur          45   Bulbasaur     yes   grass           air\n",
            "1   1  Charmeleon          39  Charmander      no    fire         rocks\n",
            "2   2   Wartortle          44    Squirtle     yes   water  water bodies\n",
            "3   3     Metapod          45    Caterpie      no     bug  rotting wood\n"
          ]
        }
      ]
    },
    {
      "cell_type": "code",
      "source": [
        "#BONUS: Create your own question and answer it.\n"
      ],
      "metadata": {
        "id": "bekwC3vgTHKL"
      },
      "execution_count": null,
      "outputs": []
    }
  ]
}